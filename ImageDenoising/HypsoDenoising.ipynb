{
 "cells": [
  {
   "cell_type": "markdown",
   "metadata": {},
   "source": [
    "The codes for split it to traning, testing, validating are available at utility/mat_data.py create_WDC_dataset(). \n",
    "\n",
    "Run the createDCmall() function in utility/lmdb_data.py to generate training lmdb dataset. \n",
    "\n",
    "To generate testing files with noise, replace the srcdir and dstdir in utility/generate_case.py and run utility/generate_case.py."
   ]
  },
  {
   "cell_type": "code",
   "execution_count": null,
   "metadata": {},
   "outputs": [],
   "source": [
    "import scipy.io\n",
    "\n",
    "# Load the .mat files\n",
    "test_data1 = scipy.io.loadmat('./data/HSI_Data/Hyperspectral_Project/WDC/test/test.mat')\n",
    "test_data2 = scipy.io.loadmat('./data/HSI_Data/Hyperspectral_Project/WDC/test_noise/Cases/Case2/test.mat')\n",
    "test_data3 = scipy.io.loadmat('./data/HSI_Data/Hyperspectral_Project/WDC/test_noise/Cases/Case3/test.mat')\n",
    "test_data4 = scipy.io.loadmat('./data/HSI_Data/Hyperspectral_Project/WDC/test_noise/Cases/Case4/test.mat')\n",
    "\n",
    "# Print the keys in the .mat files\n",
    "print(\"Keys in test_data1:\", test_data1.keys())\n",
    "print(\"Keys in test_data2:\", test_data2.keys())\n",
    "print(\"Keys in test_data3:\", test_data3.keys())\n",
    "print(\"Keys in test_data4:\", test_data4.keys())"
   ]
  },
  {
   "cell_type": "code",
   "execution_count": null,
   "metadata": {},
   "outputs": [],
   "source": [
    "import scipy.io\n",
    "import numpy as np\n",
    "\n",
    "# Load the .mat files\n",
    "test_data1 = scipy.io.loadmat('./data/HSI_Data/Hyperspectral_Project/WDC/test/test.mat')\n",
    "test_data2 = scipy.io.loadmat('./data/HSI_Data/Hyperspectral_Project/WDC/test_noise/Cases/Case2/test.mat')\n",
    "test_data3 = scipy.io.loadmat('./data/HSI_Data/Hyperspectral_Project/WDC/test_noise/Cases/Case3/test.mat')\n",
    "test_data4 = scipy.io.loadmat('./data/HSI_Data/Hyperspectral_Project/WDC/test_noise/Cases/Case4/test.mat')\n",
    "\n",
    "# Function to extract 3D array from .mat data\n",
    "def extract_3d_array(mat_data, key):\n",
    "    return mat_data[key]\n",
    "\n",
    "# Extract 3D arrays using the correct keys\n",
    "array1 = extract_3d_array(test_data1, 'data')\n",
    "array2 = extract_3d_array(test_data2, 'input')\n",
    "array2_gt = extract_3d_array(test_data2, 'gt')\n",
    "array3 = extract_3d_array(test_data3, 'input')\n",
    "array3_gt = extract_3d_array(test_data3, 'gt')\n",
    "array4 = extract_3d_array(test_data4, 'input')\n",
    "array4_gt = extract_3d_array(test_data4, 'gt')\n",
    "\n",
    "\n",
    "# Inspect the arrays\n",
    "print(\"Array 1 shape:\", array1.shape)\n",
    "print(\"Array 2 shape:\", array2.shape)\n",
    "print(\"Array 2_gt shape:\", array2_gt.shape)\n",
    "print(\"Array 3 shape:\", array3.shape)\n",
    "print(\"Array 3_gt shape:\", array3_gt.shape)\n",
    "print(\"Array 4 shape:\", array4.shape)\n",
    "print(\"Array 4_gt shape:\", array4_gt.shape)\n",
    "\n",
    "# Compare the arrays\n",
    "# Example: Compare the means\n",
    "print(\"\\nMeans of the arrays:\")\n",
    "print(f\"Array 1 mean: {np.mean(array1)}\")\n",
    "print(f\"Array 2 mean: {np.mean(array2)}\")\n",
    "print(f\"Array 3 mean: {np.mean(array3)}\")\n",
    "print(f\"Array 4 mean: {np.mean(array4)}\")\n",
    "\n",
    "# Example: Compare specific slices\n",
    "# Assuming you want to compare the first slice along the third dimension\n",
    "print(\"\\nComparison of specific slices:\")\n",
    "print(f\"Array 1 slice mean: {np.mean(array1[:, :, 0])}\")\n",
    "print(f\"Array 2 slice mean: {np.mean(array2[:, :, 0])}\")\n",
    "print(f\"Array 3 slice mean: {np.mean(array3[:, :, 0])}\")\n",
    "print(f\"Array 4 slice mean: {np.mean(array4[:, :, 0])}\")"
   ]
  }
 ],
 "metadata": {
  "kernelspec": {
   "display_name": "AI",
   "language": "python",
   "name": "python3"
  },
  "language_info": {
   "codemirror_mode": {
    "name": "ipython",
    "version": 3
   },
   "file_extension": ".py",
   "mimetype": "text/x-python",
   "name": "python",
   "nbconvert_exporter": "python",
   "pygments_lexer": "ipython3",
   "version": "3.12.4"
  }
 },
 "nbformat": 4,
 "nbformat_minor": 2
}
