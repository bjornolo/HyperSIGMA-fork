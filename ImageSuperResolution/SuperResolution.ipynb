{
 "cells": [
  {
   "cell_type": "code",
   "execution_count": null,
   "metadata": {},
   "outputs": [],
   "source": [
    "# Define the variables\n",
    "n_scale = 4  # Replace with the actual value\n",
    "gpu_id = 0  # Replace with the actual GPU ID\n",
    "model_title = \"SpatSIGMA\"  # Replace with the actual model title, e.g., \"SpatSIGMA\" or \"HyperSIGMA\"\n",
    "weight_path = \"/path/to/weight\"  # Replace with the actual path to the weight file\n",
    "\n",
    "# Construct the command\n",
    "command = f\"CUDA_VISIBLE_DEVICES={gpu_id} python main38_houston.py test --model_title {model_title} --weight_path {weight_path} --n_scale {n_scale} --dataset_name 'houston' --gpus {gpu_id}\"\n",
    "\n",
    "# Execute the command\n",
    "!{command}"
   ]
  }
 ],
 "metadata": {
  "language_info": {
   "name": "python"
  }
 },
 "nbformat": 4,
 "nbformat_minor": 2
}
